{
 "cells": [
  {
   "cell_type": "code",
   "execution_count": 1,
   "metadata": {},
   "outputs": [],
   "source": [
    "import numpy as np"
   ]
  },
  {
   "cell_type": "code",
   "execution_count": 24,
   "metadata": {},
   "outputs": [],
   "source": [
    "def find_period_classical(x, N):\n",
    "    n = 1\n",
    "    t = x\n",
    "    \n",
    "    print(f\"Para el paso:{n}-> {n}X{x} = {t}\")\n",
    "    while t != 1:\n",
    "        #t *= x\n",
    "        #t %= N\n",
    "        t_ant = t\n",
    "        t = np.mod(t*x, N)\n",
    "        n += 1\n",
    "        \n",
    "        print(f\"Para el paso:{n}-> {t_ant}X{x} = {t}\")\n",
    "\n",
    "    return n"
   ]
  },
  {
   "cell_type": "code",
   "execution_count": 29,
   "metadata": {},
   "outputs": [
    {
     "name": "stdout",
     "output_type": "stream",
     "text": [
      "Para el paso:1-> 1X7 = 7\n",
      "Para el paso:2-> 7X7 = 4\n",
      "Para el paso:3-> 4X7 = 13\n",
      "Para el paso:4-> 13X7 = 1\n"
     ]
    },
    {
     "data": {
      "text/plain": [
       "4"
      ]
     },
     "execution_count": 29,
     "metadata": {},
     "output_type": "execute_result"
    }
   ],
   "source": [
    "find_period_classical(7, 15)"
   ]
  },
  {
   "cell_type": "code",
   "execution_count": 13,
   "metadata": {},
   "outputs": [
    {
     "data": {
      "text/plain": [
       "205"
      ]
     },
     "execution_count": 13,
     "metadata": {},
     "output_type": "execute_result"
    }
   ],
   "source": [
    "np.mod(205, 357)"
   ]
  },
  {
   "cell_type": "code",
   "execution_count": 30,
   "metadata": {},
   "outputs": [],
   "source": [
    "import math\n",
    "import random\n",
    "\n",
    "def shors_algorithm_classical(N):\n",
    "    x = random.randint(0,N) # step one\n",
    "    if(math.gcd(x,N) != 1): # step two\n",
    "        return x,0,math.gcd(x,N),N/math.gcd(x,N)\n",
    "    r = find_period_classical(x,N) # step three\n",
    "    while(r % 2 != 0):\n",
    "        r = find_period_classical(x,N)\n",
    "    p = math.gcd(x**int(r/2)+1,N) # step four, ignoring the case where (x^(r/2) +/- 1) is a multiple of N\n",
    "    q = math.gcd(x**int(r/2)-1,N)\n",
    "    return x,r,p,q\n"
   ]
  },
  {
   "cell_type": "code",
   "execution_count": 38,
   "metadata": {},
   "outputs": [
    {
     "name": "stdout",
     "output_type": "stream",
     "text": [
      "Para el paso:1-> 1X104 = 104\n",
      "Para el paso:2-> 104X104 = 4\n",
      "Para el paso:3-> 4X104 = 98\n",
      "Para el paso:4-> 98X104 = 16\n",
      "Para el paso:5-> 16X104 = 74\n",
      "Para el paso:6-> 74X104 = 64\n",
      "Para el paso:7-> 64X104 = 137\n",
      "Para el paso:8-> 137X104 = 97\n",
      "Para el paso:9-> 97X104 = 71\n",
      "Para el paso:10-> 71X104 = 70\n",
      "Para el paso:11-> 70X104 = 125\n",
      "Para el paso:12-> 125X104 = 121\n",
      "Para el paso:13-> 121X104 = 23\n",
      "Para el paso:14-> 23X104 = 7\n",
      "Para el paso:15-> 7X104 = 92\n",
      "Para el paso:16-> 92X104 = 28\n",
      "Para el paso:17-> 28X104 = 50\n",
      "Para el paso:18-> 50X104 = 112\n",
      "Para el paso:19-> 112X104 = 41\n",
      "Para el paso:20-> 41X104 = 130\n",
      "Para el paso:21-> 130X104 = 5\n",
      "Para el paso:22-> 5X104 = 43\n",
      "Para el paso:23-> 43X104 = 20\n",
      "Para el paso:24-> 20X104 = 13\n",
      "Para el paso:25-> 13X104 = 80\n",
      "Para el paso:26-> 80X104 = 52\n",
      "Para el paso:27-> 52X104 = 2\n",
      "Para el paso:28-> 2X104 = 49\n",
      "Para el paso:29-> 49X104 = 8\n",
      "Para el paso:30-> 8X104 = 37\n",
      "Para el paso:31-> 37X104 = 32\n",
      "Para el paso:32-> 32X104 = 148\n",
      "Para el paso:33-> 148X104 = 128\n",
      "Para el paso:34-> 128X104 = 115\n",
      "Para el paso:35-> 115X104 = 35\n",
      "Para el paso:36-> 35X104 = 142\n",
      "Para el paso:37-> 142X104 = 140\n",
      "Para el paso:38-> 140X104 = 91\n",
      "Para el paso:39-> 91X104 = 83\n",
      "Para el paso:40-> 83X104 = 46\n",
      "Para el paso:41-> 46X104 = 14\n",
      "Para el paso:42-> 14X104 = 25\n",
      "Para el paso:43-> 25X104 = 56\n",
      "Para el paso:44-> 56X104 = 100\n",
      "Para el paso:45-> 100X104 = 65\n",
      "Para el paso:46-> 65X104 = 82\n",
      "Para el paso:47-> 82X104 = 101\n",
      "Para el paso:48-> 101X104 = 10\n",
      "Para el paso:49-> 10X104 = 86\n",
      "Para el paso:50-> 86X104 = 40\n",
      "Para el paso:51-> 40X104 = 26\n",
      "Para el paso:52-> 26X104 = 1\n",
      "semiprime N = 159 coprime x = 104 period r = 52 prime factors = 53 and 3\n"
     ]
    }
   ],
   "source": [
    "N = 159\n",
    "x,r,p,q = shors_algorithm_classical(N)\n",
    "print(f\"semiprime N = {N} coprime x = {x} period r = {r} prime factors = {p} and {q}\")\n"
   ]
  },
  {
   "cell_type": "code",
   "execution_count": null,
   "metadata": {},
   "outputs": [],
   "source": []
  }
 ],
 "metadata": {
  "kernelspec": {
   "display_name": "Quantum (myEnvQuantum)",
   "language": "python",
   "name": "myenvquantum"
  },
  "language_info": {
   "codemirror_mode": {
    "name": "ipython",
    "version": 3
   },
   "file_extension": ".py",
   "mimetype": "text/x-python",
   "name": "python",
   "nbconvert_exporter": "python",
   "pygments_lexer": "ipython3",
   "version": "3.10.10"
  }
 },
 "nbformat": 4,
 "nbformat_minor": 2
}
