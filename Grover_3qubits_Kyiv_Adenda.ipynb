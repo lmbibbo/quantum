{
 "cells": [
  {
   "cell_type": "markdown",
   "metadata": {
    "trusted": true
   },
   "source": [
    "# Adenda: Implementación práctica de Grover con SamplerV2 en IBM Kyiv (3 qubits)\n",
    "\n",
    "Esta es la actualización a lo de ayer, enfocada en la implementación práctica del algoritmo de Grover utilizando ahora `SamplerV2` en el backend IBM Kyiv, con un sistema de 3 qubits. Esta adenda resalta el uso de `SamplerV2`, los métodos de mitigación aplicados, y nuestro mejor resultado, adaptándonos a las limitaciones observadas en hardware real. Descartamos el uso de EstimatorV2."
   ]
  },
  {
   "cell_type": "markdown",
   "metadata": {
    "trusted": true
   },
   "source": [
    "## 1. Uso de SamplerV2 y razón\n",
    "\n",
    "Optamos por `SamplerV2` en lugar de `EstimatorV2` porque Grover requiere medir directamente la distribución de estados para evaluar la amplificación del estado objetivo (`|001>` en este caso). `EstimatorV2` calcula valores esperados de observables, lo que introduce suposiciones (e.g., independencia de qubits) que inflan artificialmente las probabilidades en hardware ruidoso (~90-95% con TREX). `SamplerV2` proporciona conteos crudos, reflejando con mayor fidelidad el comportamiento del circuito en presencia de ruido, lo que lo hace más adecuado para este algoritmo."
   ]
  },
  {
   "cell_type": "markdown",
   "metadata": {
    "trusted": true
   },
   "source": [
    "## 2. Métodos de mitigación\n",
    "\n",
    "- **Dynamical Decoupling (DD)**: Aplicamos DD con secuencia \"XX\" para reducir decoherencia en qubits ociosos durante la ejecución. Esto mejoró significativamente los resultados en 3 qubits.  \n",
    "- **Limitación**: TREX no es compatible con `SamplerV2` (solo con `EstimatorV2`), y twirling no se probó exhaustivamente aquí, aunque es una opción viable. DD fue el método principal integrado en runtime."
   ]
  },
  {
   "cell_type": "markdown",
   "metadata": {
    "trusted": true
   },
   "source": [
    "## 3. Mejor resultado\n",
    "\n",
    "- **Configuración**: 3 qubits, `m=2` (dos iteraciones), objetivo `|001>`, IBM Kyiv, `SamplerV2` con DD.  \n",
    "- **Resultado previo**: Probabilidad de `|001>` = 69.5% (712/1024 shots, Job ID: `cz9mwb9b7tt0008g2ftg`).  \n",
    "- **Contexto**: Sin DD, obtuvimos 62% (Job ID: `cz9mb5wtp60g008gz950`). Con 4 qubits, el ruido dominó (~5-8%), indicando que 3 qubits es el límite práctico actual en este hardware. El 69.5% es un avance notable, acercándose al teórico ideal (~90-95%) y resaltando la amplificación de Grover en un entorno ruidoso.  \n",
    "- A continuación, ejecutamos el código para obtener un nuevo resultado:"
   ]
  },
  {
   "cell_type": "code",
   "execution_count": 5,
   "metadata": {
    "trusted": true
   },
   "outputs": [
    {
     "data": {
      "text/plain": [
       "Usando backend: ibm_kyiv\n",
       "\n",
       "Circuito Grover original para |001> (m=2):\n",
       "\n",
       "     ┌───┐               ┌───┐┌───┐                    ┌───┐┌───┐          »\n",
       "\n",
       "q_0: ┤ H ├────────────■──┤ H ├┤ X ├─────────────────■──┤ X ├┤ H ├──────────»\n",
       "\n",
       "     ├───┤┌───┐       │  ├───┤├───┤┌───┐            │  ├───┤├───┤┌───┐     »\n",
       "\n",
       "q_1: ┤ H ├┤ X ├───────■──┤ X ├┤ H ├┤ X ├────────────■──┤ X ├┤ H ├┤ X ├─────»\n",
       "\n",
       "     ├───┤├───┤┌───┐┌─┴─┐├───┤├───┤├───┤┌───┐┌───┐┌─┴─┐├───┤├───┤├───┤┌───┐»\n",
       "\n",
       "q_2: ┤ H ├┤ X ├┤ H ├┤ X ├┤ H ├┤ X ├┤ H ├┤ X ├┤ H ├┤ X ├┤ H ├┤ X ├┤ H ├┤ X ├»\n",
       "\n",
       "     └───┘└───┘└───┘└───┘└───┘└───┘└───┘└───┘└───┘└───┘└───┘└───┘└───┘└───┘»\n",
       "\n",
       "c: 3/══════════════════════════════════════════════════════════════════════»\n",
       "\n",
       "                                                                           »\n",
       "\n",
       "«               ┌───┐┌───┐                    ┌───┐┌───┐     ┌─┐      \n",
       "\n",
       "«q_0: ───────■──┤ H ├┤ X ├─────────────────■──┤ X ├┤ H ├─────┤M├──────\n",
       "\n",
       "«            │  ├───┤├───┤┌───┐            │  ├───┤├───┤     └╥┘┌─┐   \n",
       "\n",
       "«q_1: ───────■──┤ X ├┤ H ├┤ X ├────────────■──┤ X ├┤ H ├──────╫─┤M├───\n",
       "\n",
       "«     ┌───┐┌─┴─┐├───┤├───┤├───┤┌───┐┌───┐┌─┴─┐├───┤├───┤┌───┐ ║ └╥┘┌─┐\n",
       "\n",
       "«q_2: ┤ H ├┤ X ├┤ H ├┤ X ├┤ H ├┤ X ├┤ H ├┤ X ├┤ H ├┤ X ├┤ H ├─╫──╫─┤M├\n",
       "\n",
       "«     └───┘└───┘└───┘└───┘└───┘└───┘└───┘└───┘└───┘└───┘└───┘ ║  ║ └╥┘\n",
       "\n",
       "«c: 3/════════════════════════════════════════════════════════╩══╩══╩═\n",
       "\n",
       "«                                                             0  1  2 \n",
       "\n",
       "Índices físicos: q0→76, q1→90, q2→75\n",
       "\n",
       "Job ID con SamplerV2 (con DD): cz9ncq2b7tt0008g2kkg\n",
       "\n",
       "Conteos con SamplerV2 (con DD): {'010': 56, '110': 44, '100': 60, '001': 672, '101': 58, '111': 38, '000': 56, '011': 40}\n",
       "\n",
       "Probabilidad de 001 con SamplerV2 (con DD): 0.656 (672 shots)"
      ]
     },
     "metadata": {},
     "output_type": "display_data"
    },
    {
     "data": {
      "image/png": "[encoded data removed]"
     },
     "metadata": {},
     "output_type": "display_data"
    },
    {
     "data": {
      "text/plain": [
       "[<Figure size 640x480 with 1 Axes>]"
      ]
     },
     "metadata": {},
     "output_type": "display_data"
    },
    {
     "data": {
      "text/plain": [
       "[<Figure size 640x480 with 0 Axes>]"
      ]
     },
     "metadata": {},
     "output_type": "display_data"
    }
   ],
   "source": [
    "from qiskit import QuantumCircuit\n",
    "from qiskit_ibm_runtime import QiskitRuntimeService, SamplerV2 as Sampler\n",
    "from qiskit_ibm_runtime.options import SamplerOptions\n",
    "from qiskit.transpiler.preset_passmanagers import generate_preset_pass_manager\n",
    "import matplotlib.pyplot as plt\n",
    "\n",
    "# Configurar servicio y backend\n",
    "service = QiskitRuntimeService(\n",
    "    channel=\"ibm_quantum\",\n",
    "    token=\"INSERT_YOUR_TOKEN\",\n",
    ")\n",
    "backend = service.backend('ibm_kyiv')\n",
    "print(f\"Usando backend: {backend.name}\")\n",
    "\n",
    "# Parámetros\n",
    "n_qubits = 3\n",
    "target = '001'\n",
    "m = 2\n",
    "shots = 1024\n",
    "\n",
    "# Crear circuito\n",
    "qc = QuantumCircuit(n_qubits, n_qubits)\n",
    "for q in range(n_qubits):\n",
    "    qc.h(q)\n",
    "for _ in range(m):\n",
    "    qc.x(1)  # q1=0\n",
    "    qc.x(2)  # q2=0\n",
    "    qc.h(n_qubits - 1)\n",
    "    qc.mcx(list(range(n_qubits - 1)), n_qubits - 1)\n",
    "    qc.h(n_qubits - 1)\n",
    "    qc.x(1)\n",
    "    qc.x(2)\n",
    "    for q in range(n_qubits):\n",
    "        qc.h(q)\n",
    "        qc.x(q)\n",
    "    qc.h(n_qubits - 1)\n",
    "    qc.mcx(list(range(n_qubits - 1)), n_qubits - 1)\n",
    "    qc.h(n_qubits - 1)\n",
    "    for q in range(n_qubits):\n",
    "        qc.x(q)\n",
    "        qc.h(q)\n",
    "qc.measure(range(n_qubits), range(n_qubits))\n",
    "print(\"Circuito Grover original para |001> (m=2):\")\n",
    "print(qc.draw(output='text'))\n",
    "\n",
    "# Transpilar\n",
    "pm = generate_preset_pass_manager(optimization_level=1, target=backend.target)\n",
    "transpiled_qc = pm.run(qc)\n",
    "layout = transpiled_qc.layout.initial_layout\n",
    "physical_indices = [layout.get_virtual_bits()[qc.qubits[i]] for i in range(n_qubits)]\n",
    "print(f\"Índices físicos: q0→{physical_indices[0]}, q1→{physical_indices[1]}, q2→{physical_indices[2]}\")\n",
    "\n",
    "# Ejecutar con SamplerV2 y DD\n",
    "options = SamplerOptions()\n",
    "options.default_shots = shots\n",
    "options.dynamical_decoupling.enable = True\n",
    "options.dynamical_decoupling.sequence_type = \"XX\"\n",
    "sampler = Sampler(mode=backend, options=options)\n",
    "job = sampler.run([transpiled_qc])\n",
    "print(f\"Job ID con SamplerV2 (con DD): {job.job_id()}\")\n",
    "result = job.result()\n",
    "counts = result[0].data.c.get_counts()\n",
    "print(\"Conteos con SamplerV2 (con DD):\", counts)\n",
    "prob = counts.get(target, 0) / shots\n",
    "print(f\"Probabilidad de {target} con SamplerV2 (con DD): {prob:.3f} ({counts.get(target, 0)} shots)\")\n",
    "\n",
    "# Graficar\n",
    "plt.bar(counts.keys(), counts.values(), color=['red' if k == target else 'skyblue' for k in counts.keys()])\n",
    "plt.title(\"Grover 3 qubits (IBM Kyiv, m=2, SamplerV2, DD)\")\n",
    "plt.xlabel(\"Estado\")\n",
    "plt.ylabel(\"Conteo\")\n",
    "plt.ylim(0, shots)\n",
    "plt.show()\n",
    "plt.savefig('grover_result_sampler_dd.png')"
   ]
  },
  {
   "cell_type": "markdown",
   "metadata": {
    "trusted": true
   },
   "source": [
    "## 4. Conclusión\n",
    "\n",
    "Con `SamplerV2` y DD, logramos una implementación efectiva de Grover en 3 qubits, superando las limitaciones iniciales de ruido y las interpretaciones erróneas de `EstimatorV2`. El resultado previo de 69.5% (o el nuevo obtenido arriba) establece un camino viable para experimentos futuros, optimizando el balance entre profundidad del circuito y mitigación de errores en hardware cuántico real. El gráfico adjunto visualiza la amplificación del estado objetivo `|001>`."
   ]
  }
 ],
 "metadata": {
  "kernelspec": {
   "display_name": "Python 3",
   "language": "python",
   "name": "python3"
  },
  "language_info": {
   "name": "python",
   "version": "3.8.0"
  }
 },
 "nbformat": 4,
 "nbformat_minor": 4
}
