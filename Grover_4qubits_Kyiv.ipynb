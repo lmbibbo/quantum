{
 "cells": [
  {
   "cell_type": "markdown",
   "metadata": {
    "trusted": true
   },
   "source": [
    "# Algoritmo de Grover con 4 Qubits en IBM Kyiv\n",
    "\n",
    "## Objetivo\n",
    "Este reporte presenta la implementación del algoritmo de Grover con 4 qubits en el computador cuántico IBM Kyiv, utilizando Qiskit 1.4. El objetivo fue amplificar la probabilidad del estado |0001> en un espacio de 16 estados (2⁴), ejecutando un circuito con 2 iteraciones y mitigación de errores TREX."
   ]
  },
  {
   "cell_type": "markdown",
   "metadata": {
    "trusted": true
   },
   "source": [
    "## Configuración Experimental\n",
    "El experimento se realizó con Qiskit 1.4 y el backend IBM Kyiv mediante QiskitRuntimeService. Los parámetros fueron:\n",
    "- Número de qubits: 4.\n",
    "- Estado objetivo: |0001>.\n",
    "- Shots por ejecución: 1024.\n",
    "- Iteraciones: m=2.\n",
    "- Optimización: PassManager (nivel 1).\n",
    "- Mitigación de errores: TREX con 16 randomizaciones.\n",
    "\n",
    "El circuito utiliza puertas Hadamard para la superposición inicial, un oráculo para |0001>, un difusor, y mediciones finales."
   ]
  },
  {
   "cell_type": "code",
   "execution_count": 3,
   "metadata": {
    "trusted": true
   },
   "outputs": [
    {
     "name": "stdout",
     "output_type": "stream",
     "text": [
      "Usando backend: ibm_kyiv"
     ]
    }
   ],
   "source": [
    "from qiskit import QuantumCircuit\n",
    "from qiskit_ibm_runtime import QiskitRuntimeService, EstimatorV2 as Estimator, EstimatorOptions\n",
    "from qiskit.quantum_info import SparsePauliOp\n",
    "from qiskit.transpiler.preset_passmanagers import generate_preset_pass_manager\n",
    "import matplotlib.pyplot as plt\n",
    "\n",
    "# Configurar servicio y backend\n",
    "service = QiskitRuntimeService(\n",
    "    channel=\"ibm_quantum\",\n",
    "    token=\"IBM_API_KEY\"\n",
    ")\n",
    "backend = service.backend('ibm_kyiv')\n",
    "print(f\"Usando backend: {backend.name}\")\n",
    "\n",
    "# Parámetros\n",
    "n_qubits = 4\n",
    "target = '0001'\n",
    "m = 2\n",
    "shots = 1024"
   ]
  },
  {
   "cell_type": "markdown",
   "metadata": {
    "trusted": true
   },
   "source": [
    "## Desarrollo del Experimento\n",
    "La implementación final surgió tras varios intentos durante un tiempo. Inicialmente, se probaron enfoques con SamplerV2 y conteos directos, pero los resultados eran ruidosos (~50-60% para |0001>). Se exploraron múltiples iteraciones (m=1, 2, 3), pero m=2 mostró un balance entre amplificación y ruido. Finalmente, se optó por EstimatorV2 con TREX para mitigar el ruido, logrando una probabilidad cercana al 90-100%."
   ]
  },
  {
   "cell_type": "markdown",
   "metadata": {
    "trusted": true
   },
   "source": [
    "## Construcción del Circuito\n",
    "El circuito de Grover se construyó con 2 iteraciones. Inicia con una superposición uniforme mediante puertas Hadamard, aplica un oráculo para marcar |0001>, y un difusor para amplificar su amplitud. El circuito se dibuja para inspección."
   ]
  },
  {
   "cell_type": "code",
   "execution_count": 6,
   "metadata": {
    "trusted": true
   },
   "outputs": [
    {
     "name": "stdout",
     "output_type": "stream",
     "text": [
      "Circuito Grover para |0001> (m=2, TREX, PM):\n",
      "\n",
      "     ┌───┐               ┌───┐┌───┐                    ┌───┐┌───┐          »\n",
      "\n",
      "q_0: ┤ H ├────────────■──┤ H ├┤ X ├─────────────────■──┤ X ├┤ H ├──────────»\n",
      "\n",
      "     ├───┤┌───┐       │  ├───┤├───┤┌───┐            │  ├───┤├───┤┌───┐     »\n",
      "\n",
      "q_1: ┤ H ├┤ X ├───────■──┤ X ├┤ H ├┤ X ├────────────■──┤ X ├┤ H ├┤ X ├─────»\n",
      "\n",
      "     ├───┤├───┤       │  ├───┤├───┤├───┤            │  ├───┤├───┤├───┤     »\n",
      "\n",
      "q_2: ┤ H ├┤ X ├───────■──┤ X ├┤ H ├┤ X ├────────────■──┤ X ├┤ H ├┤ X ├─────»\n",
      "\n",
      "     ├───┤├───┤┌───┐┌─┴─┐├───┤├───┤├───┤┌───┐┌───┐┌─┴─┐├───┤├───┤├───┤┌───┐»\n",
      "\n",
      "q_3: ┤ H ├┤ X ├┤ H ├┤ X ├┤ H ├┤ X ├┤ H ├┤ X ├┤ H ├┤ X ├┤ H ├┤ X ├┤ H ├┤ X ├»\n",
      "\n",
      "     └───┘└───┘└───┘└───┘└───┘└───┘└───┘└───┘└───┘└───┘└───┘└───┘└───┘└───┘»\n",
      "\n",
      "c: 4/══════════════════════════════════════════════════════════════════════»\n",
      "\n",
      "                                                                           »\n",
      "\n",
      "«               ┌───┐┌───┐                    ┌───┐┌───┐     ┌─┐         \n",
      "\n",
      "«q_0: ───────■──┤ H ├┤ X ├─────────────────■──┤ X ├┤ H ├─────┤M├─────────\n",
      "\n",
      "«            │  ├───┤├───┤┌───┐            │  ├───┤├───┤     └╥┘┌─┐      \n",
      "\n",
      "«q_1: ───────■──┤ X ├┤ H ├┤ X ├────────────■──┤ X ├┤ H ├──────╫─┤M├──────\n",
      "\n",
      "«            │  ├───┤├───┤├───┤            │  ├───┤├───┤      ║ └╥┘┌─┐   \n",
      "\n",
      "«q_2: ───────■──┤ X ├┤ H ├┤ X ├────────────■──┤ X ├┤ H ├──────╫──╫─┤M├───\n",
      "\n",
      "«     ┌───┐┌─┴─┐├───┤├───┤├───┤┌───┐┌───┐┌─┴─┐├───┤├───┤┌───┐ ║  ║ └╥┘┌─┐\n",
      "\n",
      "«q_3: ┤ H ├┤ X ├┤ H ├┤ X ├┤ H ├┤ X ├┤ H ├┤ X ├┤ H ├┤ X ├┤ H ├─╫──╫──╫─┤M├\n",
      "\n",
      "«     └───┘└───┘└───┘└───┘└───┘└───┘└───┘└───┘└───┘└───┘└───┘ ║  ║  ║ └╥┘\n",
      "\n",
      "«c: 4/════════════════════════════════════════════════════════╩══╩══╩══╩═\n",
      "\n",
      "«                                                             0  1  2  3"
     ]
    }
   ],
   "source": [
    "# Crear circuito\n",
    "qc = QuantumCircuit(n_qubits, n_qubits)\n",
    "for q in range(n_qubits):\n",
    "    qc.h(q)\n",
    "\n",
    "for _ in range(m):\n",
    "    for i, bit in enumerate(target[::-1]):\n",
    "        if bit == '0':\n",
    "            qc.x(i)\n",
    "    qc.h(n_qubits - 1)\n",
    "    qc.mcx(list(range(n_qubits - 1)), n_qubits - 1)\n",
    "    qc.h(n_qubits - 1)\n",
    "    for i, bit in enumerate(target[::-1]):\n",
    "        if bit == '0':\n",
    "            qc.x(i)\n",
    "    for q in range(n_qubits):\n",
    "        qc.h(q)\n",
    "        qc.x(q)\n",
    "    qc.h(n_qubits - 1)\n",
    "    qc.mcx(list(range(n_qubits - 1)), n_qubits - 1)\n",
    "    qc.h(n_qubits - 1)\n",
    "    for q in range(n_qubits):\n",
    "        qc.x(q)\n",
    "        qc.h(q)\n",
    "\n",
    "qc.measure(range(n_qubits), range(n_qubits))\n",
    "print(\"Circuito Grover para |0001> (m=2, TREX, PM):\")\n",
    "print(qc.draw(output='text'))"
   ]
  },
  {
   "cell_type": "markdown",
   "metadata": {
    "trusted": true
   },
   "source": [
    "## Transpilación y Ejecución\n",
    "El circuito se transpilaron con PassManager (nivel de optimización 1) para adaptarlo al backend IBM Kyiv. Se ejecutó utilizando EstimatorV2 con TREX para mitigación de ruido, configurando 1024 shots y 16 randomizaciones. Se obtuvieron los valores esperados de observables Pauli Z para calcular la probabilidad de |0001>."
   ]
  },
  {
   "cell_type": "code",
   "execution_count": 8,
   "metadata": {
    "trusted": true
   },
   "outputs": [
    {
     "name": "stdout",
     "output_type": "stream",
     "text": [
      "Índices físicos: q0→14, q1→0, q2→18, q3→1\n",
      "\n",
      "Job ID: cz90j50r3jrg008nqr00"
     ]
    }
   ],
   "source": [
    "# Transpilar circuito\n",
    "pm = generate_preset_pass_manager(optimization_level=1, target=backend.target)\n",
    "transpiled_qc = pm.run(qc)\n",
    "layout = transpiled_qc.layout.initial_layout\n",
    "physical_indices = [layout.get_virtual_bits()[qc.qubits[i]] for i in range(n_qubits)]\n",
    "print(f\"Índices físicos: q0→{physical_indices[0]}, q1→{physical_indices[1]}, q2→{physical_indices[2]}, q3→{physical_indices[3]}\")\n",
    "\n",
    "# Definir observables\n",
    "observables = []\n",
    "for i in range(n_qubits):\n",
    "    pauli_string = \"I\" * backend.configuration().num_qubits\n",
    "    pauli_list = list(pauli_string)\n",
    "    pauli_list[physical_indices[i]] = \"Z\"\n",
    "    coeff = 1.0 if i == 0 else -1.0\n",
    "    observables.append(SparsePauliOp(\"\".join(pauli_list), coeffs=[coeff]))\n",
    "\n",
    "# Configurar opciones y ejecutar\n",
    "options = EstimatorOptions()\n",
    "options.default_shots = shots\n",
    "options.resilience = {\"measure_mitigation\": True, \"measure_noise_learning\": {\"num_randomizations\": 16}}\n",
    "estimator = Estimator(mode=backend, options=options)\n",
    "job = estimator.run([(transpiled_qc, obs) for obs in observables])\n",
    "print(f\"Job ID: {job.job_id()}\")\n",
    "result = job.result()"
   ]
  },
  {
   "cell_type": "markdown",
   "metadata": {
    "trusted": true
   },
   "source": [
    "## Procesamiento y Visualización\n",
    "Los valores esperados (EVs) de los observables se procesaron para estimar la probabilidad de |0001>. Los conteos se calcularon a partir de esta probabilidad y se graficaron en un diagrama de barras, comparando |0001> con otros estados."
   ]
  },
  {
   "cell_type": "code",
   "execution_count": 10,
   "metadata": {
    "trusted": true
   },
   "outputs": [
    {
     "data": {
      "text/plain": [
       "Conteos: {'0001': 1015, 'otros': 8}\n",
       "\n",
       "Conteo de 0001: 1015 (~99.1%)"
      ]
     },
     "metadata": {},
     "output_type": "display_data"
    },
    {
     "data": {
      "image/png": "[encoded data removed]"
     },
     "metadata": {},
     "output_type": "display_data"
    },
    {
     "data": {
      "text/plain": [
       "[<Figure size 640x480 with 1 Axes>]"
      ]
     },
     "metadata": {},
     "output_type": "display_data"
    }
   ],
   "source": [
    "# Procesar resultados\n",
    "evs = [min(max(r.data.evs, -1), 1) for r in result]\n",
    "prob_0001 = (1 + evs[0]) / 2 * (1 - evs[1]) / 2 * (1 - evs[2]) / 2 * (1 - evs[3]) / 2\n",
    "counts = {target: int(prob_0001 * shots), 'otros': int((1 - prob_0001) * shots)}\n",
    "print(f\"Conteos: {counts}\")\n",
    "print(f\"Conteo de {target}: {counts[target]} (~{counts[target]/shots*100:.1f}%)\")\n",
    "\n",
    "# Graficar\n",
    "plt.bar(counts.keys(), counts.values(), color=['red' if k == target else 'skyblue' for k in counts.keys()])\n",
    "plt.axhline(y=shots/16, color='gray', linestyle='--', label='Uniforme (64)')\n",
    "plt.title(\"Grover 4 qubits (IBM Kyiv, m=2, TREX, PM)\")\n",
    "plt.xlabel(\"Estado\")\n",
    "plt.ylabel(\"Conteo\")\n",
    "plt.ylim(0, shots)\n",
    "plt.legend()\n",
    "plt.savefig('grover_result_trex_pm.png')\n",
    "plt.show()"
   ]
  },
  {
   "cell_type": "markdown",
   "metadata": {
    "trusted": true
   },
   "source": [
    "## Análisis de Resultados\n",
    "El resultado con m=2 en IBM Kyiv alcanzó una probabilidad de ~99.1% para |0001> (1015 de 1024 shots), superando una corrida previa (~94.1%). Teóricamente, para N=16:\n",
    "- m=1: ~50% (~512 shots).\n",
    "- m=2: ~85-90% (~870-922 shots).\n",
    "- m=3: ~95-100% (~973-1024 shots), pero con mayor riesgo de ruido.\n",
    "\n",
    "La probabilidad uniforme inicial es 6.25% (64 shots). La tabla siguiente compara teoría y práctica:\n",
    "\n",
    "| Iteraciones (m) | Teórico (%) | Shots Teóricos | Real (shots) | Real (%) |\n",
    "|-----------------|-------------|----------------|--------------|----------|\n",
    "| Uniforme        | 6.25        | 64             | -            | -        |\n",
    "| 1               | ~50         | ~512           | -            | -        |\n",
    "| 2               | ~85-90      | ~870-922       | 1015         | 99.1     |\n",
    "| 3               | ~95-100     | ~973-1024      | -            | -        |\n",
    "\n",
    "El valor real excede el esperado, sugiriendo que TREX y PassManager nivel 1 mitigaron eficazmente el ruido."
   ]
  },
  {
   "cell_type": "markdown",
   "metadata": {
    "trusted": true
   },
   "source": [
    "## Conclusión\n",
    "Tras muchas iteraciones, la implementación final del algoritmo de Grover con 4 qubits y m=2 en IBM Kyiv logró amplificar la probabilidad de |0001> a ~99.1%, superando la distribución uniforme (6.25%) y acercándose al óptimo teórico. El uso de EstimatorV2 con TREX y PassManager nivel 1 fue clave para contrarrestar el ruido, aunque resultados previos (~94.1%) indican cierta variabilidad. Este esfuerzo demuestra la viabilidad de Grover en hardware real y la importancia de técnicas de mitigación, abriendo la puerta a experimentos futuros con más qubits o iteraciones. Pero el resultado es demasiado bueno para ser cierto, y es aqui a partir del cual ya entiendo debo tener errores, y claro se mantiene asi agregando qubits, creo que es un error de implementación, pero no logro encontrar el error, por lo que debo revisar el código y la implementación. Puede ser el TREX que esta sobre mitigando. "
   ]
  },
  {
   "cell_type": "markdown",
   "metadata": {
    "trusted": true
   },
   "source": []
  }
 ],
 "metadata": {
  "kernelspec": {
   "display_name": "Python 3",
   "language": "python",
   "name": "python3"
  },
  "language_info": {
   "name": "python",
   "version": "3.8.0"
  }
 },
 "nbformat": 4,
 "nbformat_minor": 4
}
